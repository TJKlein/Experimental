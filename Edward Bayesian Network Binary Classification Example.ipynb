{
 "cells": [
  {
   "cell_type": "code",
   "execution_count": 1,
   "metadata": {
    "collapsed": false
   },
   "outputs": [],
   "source": [
    "#!/usr/bin/env python\n",
    "\"\"\"\n",
    "Bayesian neural network for binary classification using mean-field variational inference.\n",
    "(see, e.g., Blundell et al. (2015); Kucukelbir et al. (2016))\n",
    "Inspired by autograd's Bayesian neural network example.\n",
    "\n",
    "Probability model:\n",
    "    Bayesian neural network\n",
    "    Prior: Normal\n",
    "    Likelihood: Bernoulli parameterized by fully connected NN\n",
    "Variational model\n",
    "    Likelihood: Mean-field Normal\n",
    "\"\"\"\n",
    "import edward as ed\n",
    "import tensorflow as tf\n",
    "import matplotlib.pyplot as plt\n",
    "import numpy as np\n",
    "\n",
    "\n",
    "import pprint\n",
    "from random import shuffle\n",
    "\n",
    "from edward.models import Variational, Normal\n",
    "from edward.stats import norm,bernoulli, beta\n",
    "from edward.util import rbf\n",
    "\n",
    "import seaborn as sns\n",
    "sns.set_style('white')\n",
    "\n",
    "from sklearn import datasets\n",
    "from sklearn.preprocessing import scale\n",
    "from sklearn.cross_validation import train_test_split\n",
    "from sklearn.datasets import make_moons"
   ]
  },
  {
   "cell_type": "code",
   "execution_count": 2,
   "metadata": {
    "collapsed": true
   },
   "outputs": [],
   "source": [
    "%matplotlib inline"
   ]
  },
  {
   "cell_type": "code",
   "execution_count": 3,
   "metadata": {
    "collapsed": false
   },
   "outputs": [],
   "source": [
    "# Rotate the samples just for fun\n",
    "angle = 45.\n",
    "theta = (angle/180.) * np.pi\n",
    "\n",
    "rotMatrix = np.array([[np.cos(theta), -np.sin(theta)], \n",
    "                         [np.sin(theta),  np.cos(theta)]])\n",
    "\n",
    "X, Y = make_moons(noise=0.2, random_state=0, n_samples=1000)\n",
    "\n",
    "X = scale(np.matmul(rotMatrix,X.T).T)\n",
    "X_train, X_test, Y_train, Y_test = train_test_split(X, Y, test_size=.15)\n",
    "\n",
    "\n",
    "train_data = tf.constant(np.column_stack((Y_train, X_train)),dtype=tf.float32)\n",
    "test_data = tf.constant(np.column_stack((Y_test, X_test)),dtype=tf.float32)\n"
   ]
  },
  {
   "cell_type": "code",
   "execution_count": 5,
   "metadata": {
    "collapsed": false
   },
   "outputs": [],
   "source": [
    "class BayesianNN:\n",
    "    \"\"\"\n",
    "    Bayesian neural network for regressing outputs y on inputs x.\n",
    "\n",
    "    p((x,y), z) = Normal(y | NN(x; z), lik_variance) *\n",
    "                  Normal(z | 0, prior_variance),\n",
    "\n",
    "    where z are neural network weights, and with known lik_variance\n",
    "    and prior_variance.\n",
    "\n",
    "    Parameters\n",
    "    ----------\n",
    "    layer_sizes : list\n",
    "        The size of each layer, ordered from input to output.\n",
    "    nonlinearity : function, optional\n",
    "        Non-linearity after each linear transformation in the neural\n",
    "        network; aka activation function.\n",
    "    lik_variance : float, optional\n",
    "        Variance of the normal likelihood; aka noise parameter,\n",
    "        homoscedastic variance, scale parameter.\n",
    "    prior_variance : float, optional\n",
    "        Variance of the normal prior on weights; aka L2\n",
    "        regularization parameter, ridge penalty, scale parameter.\n",
    "    \"\"\"\n",
    "    def __init__(self, layer_sizes, nonlinearity=tf.nn.tanh,\n",
    "        lik_variance=0.01, prior_variance=0.001):\n",
    "        self.layer_sizes = layer_sizes\n",
    "        self.nonlinearity = nonlinearity\n",
    "        self.lik_variance = lik_variance\n",
    "        self.prior_variance = prior_variance\n",
    "\n",
    "        self.num_layers = len(layer_sizes)\n",
    "        self.weight_dims = list(zip(layer_sizes[:-1], layer_sizes[1:]))\n",
    "        self.num_vars = sum((m+1)*n for m, n in self.weight_dims)\n",
    "\n",
    "    def unpack_weights(self, z):\n",
    "        \"\"\"Unpack weight matrices and biases from a flattened vector.\"\"\"\n",
    "        for m, n in self.weight_dims:\n",
    "            yield tf.reshape(z[:m*n],        [m, n]), \\\n",
    "                  tf.reshape(z[m*n:(m*n+n)], [1, n])\n",
    "            z = z[(m+1)*n:]\n",
    "\n",
    "    def mapping(self, x, z):\n",
    "        \"\"\"\n",
    "        mu = NN(x; z)\n",
    "\n",
    "        Note this is one sample of z at a time.\n",
    "\n",
    "        Parameters\n",
    "        -------\n",
    "        x : tf.tensor\n",
    "            n_data x D\n",
    "\n",
    "        z : tf.tensor\n",
    "            num_vars\n",
    "\n",
    "        Returns\n",
    "        -------\n",
    "        tf.tensor\n",
    "            vector of length n_data\n",
    "        \"\"\"\n",
    "        h = x\n",
    "        for W, b in self.unpack_weights(z):\n",
    "            # broadcasting to do (h*W) + b (e.g. 40x10 + 1x10)\n",
    "            h = self.nonlinearity(tf.matmul(h, W) + b)\n",
    "\n",
    "        h = tf.squeeze(tf.sigmoid(h)) # n_data x 1 to n_data\n",
    "        return h\n",
    "\n",
    "    def log_prob(self, xs, zs):\n",
    "        \"\"\"Returns a vector [log p(xs, zs[1,:]), ..., log p(xs, zs[S,:])].\"\"\"\n",
    "        # Data must have labels in the first column and features in\n",
    "        # subsequent columns.\n",
    "        y = xs[:, 0]\n",
    "        x = xs[:, 1:]        \n",
    "        \n",
    "        log_prior = -self.prior_variance * tf.reduce_sum(zs*zs, 1)\n",
    "        ps = tf.pack([self.mapping(x, z) for z in tf.unpack(zs)])\n",
    "        \n",
    "        log_lik = -tf.reduce_sum((bernoulli.logpmf(1-y, p=ps)))/ self.lik_variance\n",
    "        return log_lik + log_prior\n",
    "      \n",
    "ed.set_seed(42)\n",
    "model = BayesianNN(layer_sizes=[2, 5, 5, 1], nonlinearity=tf.nn.tanh)\n",
    "variational = Variational()\n",
    "variational.add(Normal(model.num_vars))\n",
    "#data = build_toy_dataset()"
   ]
  },
  {
   "cell_type": "code",
   "execution_count": 6,
   "metadata": {
    "collapsed": false
   },
   "outputs": [],
   "source": [
    "# Helper function for creating data batches\n",
    "def chunks(l, n):\n",
    "    \"\"\"Yield successive n-sized chunks from l.\"\"\"\n",
    "    for i in range(0, len(l), n):\n",
    "        yield l[i:i+n]"
   ]
  },
  {
   "cell_type": "code",
   "execution_count": 9,
   "metadata": {
    "collapsed": false
   },
   "outputs": [],
   "source": [
    "sess = ed.get_session()\n",
    "\n",
    "batch_size = 100\n",
    "batch_list = list(chunks(list(range(0, X_train.shape[0])), batch_size))\n",
    "batches_num = int(X_train.shape[0] / batch_size)\n",
    "idx = list(range(X_train.shape[0]))\n",
    "x = tf.placeholder(tf.float32, [batch_size,3])\n",
    "data = ed.Data(x)\n",
    "inference = ed.MFVI(model, variational, data)\n",
    "inference.initialize(n_print=10)"
   ]
  },
  {
   "cell_type": "code",
   "execution_count": 10,
   "metadata": {
    "collapsed": false
   },
   "outputs": [
    {
     "name": "stdout",
     "output_type": "stream",
     "text": [
      "avg. loss 7494.650\n",
      "avg. loss 7901.369\n",
      "avg. loss 8361.561\n",
      "avg. loss 8760.004\n",
      "avg. loss 9132.342\n",
      "avg. loss 8770.510\n",
      "avg. loss 9699.225\n",
      "avg. loss 9593.642\n",
      "avg. loss 10622.880\n",
      "avg. loss 10728.248\n",
      "avg. loss 11017.365\n",
      "avg. loss 11205.836\n",
      "avg. loss 11618.955\n",
      "avg. loss 11602.899\n",
      "avg. loss 11675.446\n",
      "avg. loss 11547.532\n",
      "avg. loss 11520.106\n",
      "avg. loss 11636.578\n",
      "avg. loss 11502.921\n",
      "avg. loss 11785.764\n",
      "avg. loss 11642.531\n",
      "avg. loss 11763.159\n",
      "avg. loss 11638.041\n",
      "avg. loss 11633.896\n",
      "avg. loss 11660.482\n",
      "avg. loss 11692.328\n",
      "avg. loss 11728.927\n",
      "avg. loss 11738.264\n",
      "avg. loss 11822.192\n",
      "avg. loss 11753.493\n",
      "avg. loss 11743.785\n",
      "avg. loss 11840.298\n",
      "avg. loss 11754.153\n",
      "avg. loss 11558.262\n",
      "avg. loss 11757.162\n",
      "avg. loss 11804.815\n",
      "avg. loss 11805.153\n",
      "avg. loss 11720.048\n",
      "avg. loss 11704.670\n",
      "avg. loss 11803.081\n",
      "avg. loss 11685.540\n",
      "avg. loss 11822.612\n",
      "avg. loss 11784.605\n",
      "avg. loss 11827.992\n",
      "avg. loss 11890.309\n",
      "avg. loss 11786.829\n",
      "avg. loss 11892.083\n",
      "avg. loss 11974.657\n",
      "avg. loss 11839.375\n",
      "avg. loss 11967.530\n",
      "avg. loss 11966.276\n",
      "avg. loss 11952.912\n",
      "avg. loss 11993.788\n",
      "avg. loss 12089.739\n",
      "avg. loss 11919.699\n",
      "avg. loss 11858.118\n",
      "avg. loss 11841.148\n",
      "avg. loss 11965.427\n",
      "avg. loss 12058.718\n",
      "avg. loss 11883.403\n",
      "avg. loss 12085.497\n",
      "avg. loss 11976.766\n",
      "avg. loss 12059.099\n",
      "avg. loss 11961.900\n",
      "avg. loss 12083.240\n",
      "avg. loss 12123.360\n",
      "avg. loss 12167.515\n",
      "avg. loss 12076.655\n",
      "avg. loss 12139.206\n",
      "avg. loss 12098.954\n",
      "avg. loss 12174.321\n",
      "avg. loss 12160.472\n",
      "avg. loss 12259.746\n",
      "avg. loss 12206.084\n",
      "avg. loss 12310.036\n",
      "avg. loss 12364.755\n",
      "avg. loss 12440.855\n",
      "avg. loss 12228.704\n",
      "avg. loss 12179.646\n",
      "avg. loss 12314.109\n",
      "avg. loss 12310.293\n",
      "avg. loss 12353.654\n",
      "avg. loss 12378.193\n",
      "avg. loss 12333.317\n",
      "avg. loss 12459.284\n",
      "avg. loss 12454.706\n",
      "avg. loss 12442.964\n",
      "avg. loss 12438.002\n",
      "avg. loss 12498.315\n",
      "avg. loss 12437.213\n",
      "avg. loss 12548.467\n",
      "avg. loss 12466.718\n",
      "avg. loss 12529.559\n",
      "avg. loss 12599.100\n",
      "avg. loss 12580.163\n",
      "avg. loss 12661.854\n",
      "avg. loss 12578.613\n",
      "avg. loss 12598.958\n",
      "avg. loss 12635.516\n",
      "avg. loss 12598.866\n",
      "avg. loss 12707.768\n",
      "avg. loss 12682.163\n",
      "avg. loss 12730.153\n",
      "avg. loss 12685.620\n",
      "avg. loss 12674.346\n",
      "avg. loss 12703.140\n",
      "avg. loss 12705.608\n",
      "avg. loss 12681.102\n",
      "avg. loss 12691.659\n",
      "avg. loss 12698.723\n",
      "avg. loss 12661.797\n",
      "avg. loss 12666.646\n",
      "avg. loss 12687.386\n",
      "avg. loss 12729.231\n",
      "avg. loss 12747.759\n",
      "avg. loss 12739.610\n",
      "avg. loss 12687.221\n",
      "avg. loss 12795.653\n",
      "avg. loss 12838.109\n",
      "avg. loss 12738.254\n",
      "avg. loss 12758.491\n",
      "avg. loss 12730.026\n",
      "avg. loss 12717.501\n",
      "avg. loss 12804.690\n",
      "avg. loss 12707.898\n",
      "avg. loss 12775.406\n",
      "avg. loss 12733.000\n",
      "avg. loss 12692.903\n",
      "avg. loss 12750.189\n",
      "avg. loss 12759.584\n",
      "avg. loss 12742.367\n",
      "avg. loss 12750.129\n",
      "avg. loss 12687.590\n",
      "avg. loss 12768.941\n",
      "avg. loss 12719.129\n",
      "avg. loss 12752.908\n",
      "avg. loss 12779.528\n",
      "avg. loss 12781.467\n",
      "avg. loss 12765.454\n",
      "avg. loss 12699.286\n",
      "avg. loss 12716.723\n",
      "avg. loss 12750.948\n",
      "avg. loss 12706.153\n",
      "avg. loss 12728.417\n",
      "avg. loss 12724.985\n",
      "avg. loss 12697.605\n",
      "avg. loss 12755.646\n",
      "avg. loss 12634.222\n",
      "avg. loss 12707.389\n",
      "avg. loss 12731.552\n",
      "avg. loss 12771.738\n",
      "avg. loss 12723.944\n",
      "avg. loss 12765.639\n",
      "avg. loss 12767.844\n",
      "avg. loss 12694.975\n",
      "avg. loss 12759.680\n",
      "avg. loss 12785.452\n",
      "avg. loss 12768.794\n",
      "avg. loss 12770.515\n",
      "avg. loss 12749.682\n",
      "avg. loss 12736.036\n",
      "avg. loss 12768.939\n",
      "avg. loss 12738.837\n",
      "avg. loss 12731.329\n",
      "avg. loss 12791.149\n",
      "avg. loss 12783.366\n",
      "avg. loss 12725.115\n",
      "avg. loss 12806.223\n",
      "avg. loss 12711.187\n",
      "avg. loss 12726.289\n",
      "avg. loss 12749.709\n",
      "avg. loss 12700.037\n",
      "avg. loss 12746.937\n",
      "avg. loss 12744.353\n",
      "avg. loss 12683.857\n",
      "avg. loss 12755.964\n",
      "avg. loss 12788.845\n",
      "avg. loss 12786.497\n",
      "avg. loss 12745.700\n",
      "avg. loss 12691.274\n",
      "avg. loss 12742.360\n",
      "avg. loss 12785.308\n",
      "avg. loss 12817.751\n",
      "avg. loss 12757.781\n",
      "avg. loss 12749.990\n",
      "avg. loss 12729.092\n",
      "avg. loss 12775.429\n",
      "avg. loss 12755.428\n",
      "avg. loss 12681.658\n",
      "avg. loss 12666.858\n",
      "avg. loss 12726.079\n",
      "avg. loss 12724.422\n",
      "avg. loss 12701.072\n",
      "avg. loss 12713.200\n",
      "avg. loss 12782.923\n",
      "avg. loss 12763.478\n",
      "avg. loss 12687.821\n",
      "avg. loss 12779.930\n",
      "avg. loss 12769.450\n",
      "avg. loss 12758.784\n"
     ]
    }
   ],
   "source": [
    "for t in range(200):\n",
    "    avg_loss = 0.0\n",
    "    shuffle(idx)\n",
    "    X_train_shuffle = X_train[idx,:]\n",
    "    Y_train_shuffle = Y_train[idx]\n",
    "    for n in range(batches_num):\n",
    "        \n",
    "        train_batch = (np.column_stack((Y_train_shuffle[batch_list[n]], X_train_shuffle[batch_list[n],:])))\n",
    "        _, loss = sess.run([inference.train, inference.loss],\n",
    "                           feed_dict={x: train_batch})\n",
    "        avg_loss += loss\n",
    "        \n",
    "    avg_loss = avg_loss / batches_num\n",
    "    # Print a lower bound to the average marginal likelihood for an\n",
    "    # image.\n",
    "    print(\"avg. loss {:0.3f}\".format(avg_loss))\n",
    "        "
   ]
  },
  {
   "cell_type": "code",
   "execution_count": 12,
   "metadata": {
    "collapsed": false
   },
   "outputs": [],
   "source": [
    "# Sample variational parameters\n",
    "mean, std = sess.run([variational.layers[0].m,\n",
    "                              variational.layers[0].s])\n",
    "rs = np.random.RandomState(0)\n",
    "zs = rs.randn(50, variational.num_vars) * std + mean\n",
    "zs = tf.constant(zs, dtype=tf.float32)"
   ]
  },
  {
   "cell_type": "code",
   "execution_count": 13,
   "metadata": {
    "collapsed": false
   },
   "outputs": [],
   "source": [
    "\n",
    "p = tf.pack([model.mapping(tf.constant(X_test,dtype=tf.float32), z) for z in tf.unpack(zs)])\n",
    "pred = np.squeeze(p.eval().mean(axis=0) >= 0.5)\n",
    "wrong_pred_0 = np.where(np.logical_and(np.squeeze(Y_test)!= pred, np.squeeze(Y_test) == 0))\n",
    "wrong_pred_1 = np.where(np.logical_and(np.squeeze(Y_test)!= pred, np.squeeze(Y_test) == 1))"
   ]
  },
  {
   "cell_type": "code",
   "execution_count": 15,
   "metadata": {
    "collapsed": false
   },
   "outputs": [
    {
     "data": {
      "image/png": "[encoded data removed]",
      "text/plain": [
       "<matplotlib.figure.Figure at 0x12fec2cc0>"
      ]
     },
     "metadata": {},
     "output_type": "display_data"
    }
   ],
   "source": [
    "fig, ax = plt.subplots()\n",
    "ax.scatter(X_test[pred==0, 0], X_test[pred==0, 1])\n",
    "ax.scatter(X_test[pred==1, 0], X_test[pred==1, 1], color='r')\n",
    "ax.scatter(X_test[wrong_pred_1, 0], X_test[wrong_pred_1, 1], color='m')\n",
    "ax.scatter(X_test[wrong_pred_0, 0], X_test[wrong_pred_0, 1], color='g')\n",
    "sns.despine()\n",
    "ax.set(title='Predicted labels in testing set', xlabel='X', ylabel='Y');"
   ]
  },
  {
   "cell_type": "code",
   "execution_count": 16,
   "metadata": {
    "collapsed": false
   },
   "outputs": [
    {
     "data": {
      "image/png": "[encoded data removed]",
      "text/plain": [
       "<matplotlib.figure.Figure at 0x12feb7d30>"
      ]
     },
     "metadata": {},
     "output_type": "display_data"
    }
   ],
   "source": [
    "fig, ax = plt.subplots()\n",
    "ax.scatter(X[Y==0, 0], X[Y==0, 1], label='Class 0')\n",
    "ax.scatter(X[Y==1, 0], X[Y==1, 1], color='r', label='Class 1')\n",
    "sns.despine(); ax.legend()\n",
    "ax.set(xlabel='X', ylabel='Y', title='Toy binary classification data set');"
   ]
  },
  {
   "cell_type": "code",
   "execution_count": 17,
   "metadata": {
    "collapsed": false
   },
   "outputs": [],
   "source": [
    "grid = np.mgrid[-3:3:100j,-3:3:100j]\n",
    "grid_2d = grid.reshape(2, -1).T           \n",
    "\n",
    "pX = tf.pack([model.mapping(tf.constant(X,dtype=tf.float32), z) for z in tf.unpack(zs)])\n",
    "pred_X = np.squeeze(pX.eval().mean(axis=0) >= 0.5)              \n",
    "\n",
    "    \n",
    "p = tf.pack([model.mapping(tf.constant(grid_2d,dtype=tf.float32), z) for z in tf.unpack(zs)])\n",
    "pred_grid = np.squeeze(p.eval().mean(axis=0))"
   ]
  },
  {
   "cell_type": "code",
   "execution_count": 19,
   "metadata": {
    "collapsed": false
   },
   "outputs": [
    {
     "data": {
      "image/png": "[encoded data removed]",
      "text/plain": [
       "<matplotlib.figure.Figure at 0x134da4f98>"
      ]
     },
     "metadata": {},
     "output_type": "display_data"
    }
   ],
   "source": [
    "\n",
    "\n",
    "#grid = np.mgrid[100:-3:-3j,-3:3:100j]\n",
    "dummy_out = np.ones(grid.shape[1], dtype=np.int8)\n",
    "cmap = sns.diverging_palette(250, 12, s=85, l=25, as_cmap=True)\n",
    "fig, ax = plt.subplots(figsize=(10, 6))\n",
    "contour = ax.contourf(*grid, pred_grid.reshape(100, 100), cmap=cmap)\n",
    "#ax.scatter(X_test[pred==0, 0], X_test[pred==0, 1])\n",
    "#ax.scatter(X_test[pred==1, 0], X_test[pred==1, 1], color='r')\n",
    "ax.scatter(X[pred_X==0, 0], X[pred_X==0, 1], label='Class 0')\n",
    "ax.scatter(X[pred_X==1, 0], X[pred_X==1, 1], color='r', label='Class 1')\n",
    "cbar = plt.colorbar(contour, ax=ax)\n",
    "_ = ax.set(xlim=(-3, 3), ylim=(-3, 3), xlabel='X', ylabel='Y');\n",
    "cbar.ax.set_ylabel('Posterior predictive mean probability of class label = 0');"
   ]
  }
 ],
 "metadata": {
  "kernelspec": {
   "display_name": "Python 3",
   "language": "python",
   "name": "python3"
  },
  "language_info": {
   "codemirror_mode": {
    "name": "ipython",
    "version": 3
   },
   "file_extension": ".py",
   "mimetype": "text/x-python",
   "name": "python",
   "nbconvert_exporter": "python",
   "pygments_lexer": "ipython3",
   "version": "3.5.1"
  }
 },
 "nbformat": 4,
 "nbformat_minor": 0
}
